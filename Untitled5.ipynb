{
 "cells": [
  {
   "cell_type": "code",
   "execution_count": null,
   "id": "347cd8ba-872c-48c6-b48f-5936716964c3",
   "metadata": {},
   "outputs": [
    {
     "name": "stdin",
     "output_type": "stream",
     "text": [
      "Enter password to access the Expense Tracker: abc@134\n"
     ]
    },
    {
     "name": "stdout",
     "output_type": "stream",
     "text": [
      "\n",
      " Personal Expense Tracker \n",
      "1.Add expenses\n",
      "2.View expenses\n",
      "3.View month and year\n",
      "4.Total Expenses by month and year\n",
      "5.Total Expenses:\n",
      "6.Delete Expenses:\n",
      "7.Update Expense ID :\n",
      "8.Search Feature\n",
      "9.Exit\n"
     ]
    },
    {
     "name": "stdin",
     "output_type": "stream",
     "text": [
      "Choose: 1\n",
      "Amount: 900000\n",
      "Category: Food\n",
      "date(DD-MM-YYYY): 23-09-2010\n",
      "Note: Dinner\n",
      "Expense ID :  34\n"
     ]
    },
    {
     "name": "stdout",
     "output_type": "stream",
     "text": [
      "Expense added successfully!\n",
      "\n",
      " Personal Expense Tracker \n",
      "1.Add expenses\n",
      "2.View expenses\n",
      "3.View month and year\n",
      "4.Total Expenses by month and year\n",
      "5.Total Expenses:\n",
      "6.Delete Expenses:\n",
      "7.Update Expense ID :\n",
      "8.Search Feature\n",
      "9.Exit\n"
     ]
    },
    {
     "name": "stdin",
     "output_type": "stream",
     "text": [
      "Choose: 1\n",
      "Amount: 12000\n",
      "Category: Travel\n",
      "date(DD-MM-YYYY): 13-07-2011\n",
      "Note: Maldives\n",
      "Expense ID :  89\n"
     ]
    },
    {
     "name": "stdout",
     "output_type": "stream",
     "text": [
      "Expense added successfully!\n",
      "\n",
      " Personal Expense Tracker \n",
      "1.Add expenses\n",
      "2.View expenses\n",
      "3.View month and year\n",
      "4.Total Expenses by month and year\n",
      "5.Total Expenses:\n",
      "6.Delete Expenses:\n",
      "7.Update Expense ID :\n",
      "8.Search Feature\n",
      "9.Exit\n"
     ]
    },
    {
     "name": "stdin",
     "output_type": "stream",
     "text": [
      "Choose: 1\n",
      "Amount: 40000\n",
      "Category: Clothes\n",
      "date(DD-MM-YYYY): 12-07-2011\n",
      "Note: Dresses\n",
      "Expense ID :  27\n"
     ]
    },
    {
     "name": "stdout",
     "output_type": "stream",
     "text": [
      "Expense added successfully!\n",
      "\n",
      " Personal Expense Tracker \n",
      "1.Add expenses\n",
      "2.View expenses\n",
      "3.View month and year\n",
      "4.Total Expenses by month and year\n",
      "5.Total Expenses:\n",
      "6.Delete Expenses:\n",
      "7.Update Expense ID :\n",
      "8.Search Feature\n",
      "9.Exit\n"
     ]
    },
    {
     "name": "stdin",
     "output_type": "stream",
     "text": [
      "Choose: 2\n"
     ]
    },
    {
     "name": "stdout",
     "output_type": "stream",
     "text": [
      "Expenses:\n",
      " Amount : 900000 , Category : Food , Date : 23-09-2010 , Note : Dinner , Expense ID : 34\n",
      "\n",
      " Amount : 12000 , Category : Travel , Date : 13-07-2011 , Note : Maldives , Expense ID : 89\n",
      "\n",
      " Amount : 40000 , Category : Clothes , Date : 12-07-2011 , Note : Dresses , Expense ID : 27\n",
      "\n",
      "\n",
      " Personal Expense Tracker \n",
      "1.Add expenses\n",
      "2.View expenses\n",
      "3.View month and year\n",
      "4.Total Expenses by month and year\n",
      "5.Total Expenses:\n",
      "6.Delete Expenses:\n",
      "7.Update Expense ID :\n",
      "8.Search Feature\n",
      "9.Exit\n"
     ]
    },
    {
     "name": "stdin",
     "output_type": "stream",
     "text": [
      "Choose: 3\n",
      "Enter month (MM): 09\n",
      "Enter year (YYYY): 2011\n"
     ]
    },
    {
     "name": "stdout",
     "output_type": "stream",
     "text": [
      "Expenses in 09/2011\n",
      "\n",
      "No expenses found\n",
      "\n",
      " Personal Expense Tracker \n",
      "1.Add expenses\n",
      "2.View expenses\n",
      "3.View month and year\n",
      "4.Total Expenses by month and year\n",
      "5.Total Expenses:\n",
      "6.Delete Expenses:\n",
      "7.Update Expense ID :\n",
      "8.Search Feature\n",
      "9.Exit\n"
     ]
    },
    {
     "name": "stdin",
     "output_type": "stream",
     "text": [
      "Choose: 3\n",
      "Enter month (MM): 09\n",
      "Enter year (YYYY): 2010\n"
     ]
    },
    {
     "name": "stdout",
     "output_type": "stream",
     "text": [
      "Expenses in 09/2010\n",
      "\n",
      "Amount : 900000 , Category : Food , Date : 23-09-2010 , Note : Dinner , Expense ID : 34\n",
      "\n",
      " Personal Expense Tracker \n",
      "1.Add expenses\n",
      "2.View expenses\n",
      "3.View month and year\n",
      "4.Total Expenses by month and year\n",
      "5.Total Expenses:\n",
      "6.Delete Expenses:\n",
      "7.Update Expense ID :\n",
      "8.Search Feature\n",
      "9.Exit\n"
     ]
    },
    {
     "name": "stdin",
     "output_type": "stream",
     "text": [
      "Choose: 4\n",
      "Enter month (MM): 07\n",
      "Enter year (YYYY): 2011\n"
     ]
    },
    {
     "name": "stdout",
     "output_type": "stream",
     "text": [
      "Total Expenses by 07/2011:52000\n",
      "\n",
      " Personal Expense Tracker \n",
      "1.Add expenses\n",
      "2.View expenses\n",
      "3.View month and year\n",
      "4.Total Expenses by month and year\n",
      "5.Total Expenses:\n",
      "6.Delete Expenses:\n",
      "7.Update Expense ID :\n",
      "8.Search Feature\n",
      "9.Exit\n"
     ]
    },
    {
     "name": "stdin",
     "output_type": "stream",
     "text": [
      "Choose: 5\n"
     ]
    },
    {
     "name": "stdout",
     "output_type": "stream",
     "text": [
      "Total expenses: 952000\n",
      "\n",
      " Personal Expense Tracker \n",
      "1.Add expenses\n",
      "2.View expenses\n",
      "3.View month and year\n",
      "4.Total Expenses by month and year\n",
      "5.Total Expenses:\n",
      "6.Delete Expenses:\n",
      "7.Update Expense ID :\n",
      "8.Search Feature\n",
      "9.Exit\n"
     ]
    },
    {
     "name": "stdin",
     "output_type": "stream",
     "text": [
      "Choose: 6\n",
      "Expense ID : 27\n"
     ]
    },
    {
     "name": "stdout",
     "output_type": "stream",
     "text": [
      "Expenses Deleted Successfully! \n",
      "\n",
      " Personal Expense Tracker \n",
      "1.Add expenses\n",
      "2.View expenses\n",
      "3.View month and year\n",
      "4.Total Expenses by month and year\n",
      "5.Total Expenses:\n",
      "6.Delete Expenses:\n",
      "7.Update Expense ID :\n",
      "8.Search Feature\n",
      "9.Exit\n"
     ]
    },
    {
     "name": "stdin",
     "output_type": "stream",
     "text": [
      "Choose: 7\n",
      "Enter expense id to update: 89\n",
      "Enter new expense ID: 37\n"
     ]
    },
    {
     "name": "stdout",
     "output_type": "stream",
     "text": [
      "Expense updated successfully!\n",
      "\n",
      " Personal Expense Tracker \n",
      "1.Add expenses\n",
      "2.View expenses\n",
      "3.View month and year\n",
      "4.Total Expenses by month and year\n",
      "5.Total Expenses:\n",
      "6.Delete Expenses:\n",
      "7.Update Expense ID :\n",
      "8.Search Feature\n",
      "9.Exit\n"
     ]
    },
    {
     "name": "stdin",
     "output_type": "stream",
     "text": [
      "Choose: 8\n",
      "Enter search value: 12000\n"
     ]
    },
    {
     "name": "stdout",
     "output_type": "stream",
     "text": [
      "Not searched found\n",
      "\n",
      " Personal Expense Tracker \n",
      "1.Add expenses\n",
      "2.View expenses\n",
      "3.View month and year\n",
      "4.Total Expenses by month and year\n",
      "5.Total Expenses:\n",
      "6.Delete Expenses:\n",
      "7.Update Expense ID :\n",
      "8.Search Feature\n",
      "9.Exit\n"
     ]
    }
   ],
   "source": [
    "# Personal Expense Tracker(CLI version)\n",
    "import os\n",
    "from datetime import datetime\n",
    "\n",
    "def add_expense():\n",
    "    amount=input(\"Amount:\").strip()\n",
    "    category=input(\"Category:\").strip()\n",
    "    date=input(\"date(DD-MM-YYYY):\").strip()\n",
    "    note=input(\"Note:\").strip()\n",
    "    expense_id=int(input(\"Expense ID : \"))\n",
    "    with open(\"expense.txt\",\"a\") as f:\n",
    "        f.write(f\"{amount},{category},{date},{note},{expense_id}\\n\")\n",
    "    print(\"Expense added successfully!\")\n",
    "def view_expense():\n",
    "    try:\n",
    "        with open(\"expense.txt\",\"r\") as f:\n",
    "            expenses=f.readlines()\n",
    "            if not expenses:\n",
    "                print(\"There are no expenses\")\n",
    "            else:\n",
    "                print(\"Expenses:\")\n",
    "                for line in expenses:\n",
    "                    parts=line.strip().split(\",\")\n",
    "                    if len(parts)!=5:\n",
    "                        continue\n",
    "                    amount,category,date,note,expense_id=parts\n",
    "                    print(f\" Amount : {amount} , Category : {category} , Date : {date} , Note : {note} , Expense ID : {expense_id}\\n\")\n",
    "                    \n",
    "    except FileNotFoundError:\n",
    "        print(\"expense.txt file not found\")\n",
    "def view_month_year():\n",
    "    month=input(\"Enter month (MM):\").strip()\n",
    "    year=input(\"Enter year (YYYY):\").strip()\n",
    "    print(f\"Expenses in {month}/{year}\\n\")\n",
    "    found=False\n",
    "    try:\n",
    "        with open(\"expense.txt\",\"r\") as f:\n",
    "            expenses=f.readlines()\n",
    "            for line in expenses:\n",
    "                parts=line.strip().split(\",\")\n",
    "                if len(parts)>=5:\n",
    "                   amount,category,date,note,expense_id=parts\n",
    "                   Date=datetime.strptime(date,\"%d-%m-%Y\")\n",
    "                   if Date.month == int(month) and Date.year == int(year):\n",
    "                      print(f\"Amount : {amount} , Category : {category} , Date : {date} , Note : {note} , Expense ID : {expense_id}\")\n",
    "                      found=True\n",
    "            if not found:\n",
    "               print(\"No expenses found\")\n",
    "            \n",
    "    except FileNotFoundError:\n",
    "        print(\"expense.txt File not found.\")\n",
    "def total_expensesbymonth_year():\n",
    "    month=input(\"Enter month (MM):\").strip()\n",
    "    year=input(\"Enter year (YYYY):\").strip()\n",
    "    add_amount=0\n",
    "    try:\n",
    "        with open(\"expense.txt\",\"r\") as f:\n",
    "            expenses=f.readlines()\n",
    "            for line in expenses:\n",
    "                parts=line.strip().split(\",\")\n",
    "                if len(parts)>=5:\n",
    "                    amount,category,date,note,expense_id=parts\n",
    "                    Amount=parts[0]\n",
    "                    Date=datetime.strptime(date,\"%d-%m-%Y\")\n",
    "                    if Date.month == int(month) and Date.year == int(year):\n",
    "                            add_amount+=int(Amount)\n",
    "            print(f\"Total Expenses by {month}/{year}:{add_amount}\")\n",
    "    except FileNotFoundError:\n",
    "        print(\"expense.txt File not found.\")\n",
    "def total_all_expenses():\n",
    "    total=0\n",
    "    try:\n",
    "        with open(\"expense.txt\",\"r\") as f:\n",
    "            expenses=f.readlines()\n",
    "            for line in expenses:\n",
    "                parts=line.strip().split(\",\")\n",
    "                if len(parts)==5:\n",
    "                    amount,category,date,note,expense_id=parts\n",
    "                    Amount=parts[0]\n",
    "                    total+=int(Amount)\n",
    "            print(\"Total expenses:\",total)\n",
    "    except FileNotFoundError:\n",
    "        print(\"expense.txt file not found.\")\n",
    "def delete_expenses():\n",
    "    expense_id1=input(\"Expense ID :\").strip()\n",
    "    found=False\n",
    "    try:\n",
    "        with open(\"expense.txt\",\"r\") as f:\n",
    "            expenses=f.readlines()\n",
    "        with open(\"expense.txt\",\"w\") as file:\n",
    "            for line in expenses:\n",
    "                parts=line.strip().split(\",\")\n",
    "                if len(parts)==5:\n",
    "                    amount,category,date,note,expense_id=parts\n",
    "                    if int(expense_id)<90 and expense_id == expense_id1:\n",
    "                        found=True\n",
    "                        continue\n",
    "                       \n",
    "                file.write(line)\n",
    "        if found:\n",
    "           print(\"Expenses Deleted Successfully! \")\n",
    "        else:\n",
    "            print(\"No matching expenses\")\n",
    "       \n",
    "    except FileNotFoundError:\n",
    "        print(\"expense.txt file not found.\")\n",
    "def update_expense_id():\n",
    "    update_id=input(\"Enter expense id to update:\")\n",
    "    newexpense_id=input(\"Enter new expense ID:\")\n",
    "    found=False\n",
    "    try:\n",
    "        with open(\"expense.txt\",\"r\") as f:\n",
    "            expenses=f.readlines()\n",
    "        with open(\"expense.txt\",\"w\") as f:\n",
    "            for line in expenses:\n",
    "                parts=line.strip().split(\",\")\n",
    "                if len(parts)==5:\n",
    "                    amount,category,date,note,expense_id=parts\n",
    "                    if expense_id == update_id:\n",
    "                        found=True\n",
    "                        f.write(f\"{amount} , {category} , {date} , {note} , {newexpense_id}\")\n",
    "                    else:\n",
    "                        f.write(line)\n",
    "                else:\n",
    "                    f.write(line)\n",
    "        if found:\n",
    "             print(\"Expense updated successfully!\")\n",
    "        else:\n",
    "             print(\"Update Expense Id not found\")\n",
    "    \n",
    "    except FileNotFoundError:\n",
    "        print(\"File not found.\")\n",
    "def search_feature():\n",
    "    search=input(\"Enter search value:\").strip()\n",
    "    found=False\n",
    "    try:\n",
    "        with open(\"expense.txt\",\"r\") as f:\n",
    "            expenses=f.readlines()\n",
    "            for line in expenses:\n",
    "                parts=line.strip().split(\",\")\n",
    "                if len(parts)==5:\n",
    "                    amount,category,date,note,expense_id=parts\n",
    "                    if search in parts:\n",
    "                        print(f\"{search}\")\n",
    "                        print (f\"{amount} , {category} , {date} , {note} , {expense_id}\")\n",
    "                        found=True\n",
    "        \n",
    "        if found:\n",
    "            print(\"Expense searched successfully!\")\n",
    "        else:\n",
    "            print(\"Not searched found\")\n",
    "    except FileNotFoundError:\n",
    "        print(\"File not found\")\n",
    "    \n",
    "password=input(\"Enter password to access the Expense Tracker:\")\n",
    "if password!=\"abc@134\":\n",
    "    print(\"Access denied.Wrong password.\")\n",
    "    Exit()\n",
    "        \n",
    "while True:\n",
    "    print(\"\\n Personal Expense Tracker \")\n",
    "    print(\"1.Add expenses\")\n",
    "    print(\"2.View expenses\")\n",
    "    print(\"3.View month and year\")\n",
    "    print(\"4.Total Expenses by month and year\")\n",
    "    print(\"5.Total Expenses:\")\n",
    "    print(\"6.Delete Expenses:\")\n",
    "    print(\"7.Update Expense ID :\")\n",
    "    print(\"8.Search Feature\")\n",
    "    print(\"9.Exit\")\n",
    "    choice=input(\"Choose:\")\n",
    "    if choice==\"1\":\n",
    "        add_expense()\n",
    "    elif choice==\"2\":\n",
    "        view_expense()\n",
    "    elif choice==\"3\":\n",
    "        view_month_year()\n",
    "    elif choice==\"4\":\n",
    "        total_expensesbymonth_year()\n",
    "    elif choice==\"5\":\n",
    "        total_all_expenses()\n",
    "    elif choice==\"6\":\n",
    "        delete_expenses()\n",
    "    elif choice==\"7\":\n",
    "        update_expense_id()\n",
    "    elif choice==\"8\":\n",
    "        search_feature()\n",
    "    elif choice==\"9\":\n",
    "        break\n",
    "    else:\n",
    "        print(\"Invalid Choice\")\n",
    "                "
   ]
  },
  {
   "cell_type": "code",
   "execution_count": null,
   "id": "e370fa5e-7b3d-4994-850d-ece7431b0857",
   "metadata": {},
   "outputs": [],
   "source": []
  },
  {
   "cell_type": "code",
   "execution_count": null,
   "id": "83269527-c555-4fb9-9926-3a00c022b2d3",
   "metadata": {},
   "outputs": [],
   "source": []
  }
 ],
 "metadata": {
  "kernelspec": {
   "display_name": "Python 3 (ipykernel)",
   "language": "python",
   "name": "python3"
  },
  "language_info": {
   "codemirror_mode": {
    "name": "ipython",
    "version": 3
   },
   "file_extension": ".py",
   "mimetype": "text/x-python",
   "name": "python",
   "nbconvert_exporter": "python",
   "pygments_lexer": "ipython3",
   "version": "3.12.7"
  }
 },
 "nbformat": 4,
 "nbformat_minor": 5
}
